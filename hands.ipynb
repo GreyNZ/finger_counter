{
 "cells": [
  {
   "cell_type": "code",
   "execution_count": null,
   "metadata": {},
   "outputs": [],
   "source": [
    "#!pip install mediapipe"
   ]
  },
  {
   "cell_type": "code",
   "execution_count": null,
   "metadata": {},
   "outputs": [],
   "source": [
    "import mediapipe as mp\n",
    "from mediapipe.tasks import python\n",
    "from mediapipe.tasks.python import vision"
   ]
  },
  {
   "cell_type": "code",
   "execution_count": null,
   "metadata": {},
   "outputs": [],
   "source": [
    "# Model\n",
    "\n",
    "# The MediaPipe Hand Landmarker task requires a trained model that is compatible with this task. \n",
    "#For more information on available trained models for Hand Landmarker, see the task overview Models section.\n",
    "\n",
    "# Select and download the model, and then store it in a local directory:\n",
    "\n",
    "# https://developers.google.com/mediapipe/solutions/vision/hand_landmarker/index#models\n",
    "\n",
    "model_path = 'hand_landmarks.task'"
   ]
  },
  {
   "cell_type": "code",
   "execution_count": null,
   "metadata": {},
   "outputs": [],
   "source": [
    "# # image\n",
    "\n",
    "# import mediapipe as mp\n",
    "\n",
    "# BaseOptions = mp.tasks.BaseOptions\n",
    "# HandLandmarker = mp.tasks.vision.HandLandmarker\n",
    "# HandLandmarkerOptions = mp.tasks.vision.HandLandmarkerOptions\n",
    "# VisionRunningMode = mp.tasks.vision.RunningMode\n",
    "\n",
    "# # Create a hand landmarker instance with the image mode:\n",
    "# options = HandLandmarkerOptions(\n",
    "#     base_options=BaseOptions(model_asset_path='/path/to/model.task'),\n",
    "#     running_mode=VisionRunningMode.IMAGE)\n",
    "# with HandLandmarker.create_from_options(options) as landmarker:\n",
    "#   # The landmarker is initialized. Use it here.\n",
    "#   # ...\n",
    "    "
   ]
  },
  {
   "cell_type": "code",
   "execution_count": null,
   "metadata": {},
   "outputs": [],
   "source": [
    "# video \n",
    "import mediapipe as mp\n",
    "\n",
    "BaseOptions = mp.tasks.BaseOptions\n",
    "HandLandmarker = mp.tasks.vision.HandLandmarker\n",
    "HandLandmarkerOptions = mp.tasks.vision.HandLandmarkerOptions\n",
    "VisionRunningMode = mp.tasks.vision.RunningMode\n",
    "\n",
    "# Create a hand landmarker instance with the video mode:\n",
    "options = HandLandmarkerOptions(\n",
    "    base_options=BaseOptions(model_asset_path='/path/to/model.task'),\n",
    "    running_mode=VisionRunningMode.VIDEO)\n",
    "with HandLandmarker.create_from_options(options) as landmarker:\n",
    "  # The landmarker is initialized. Use it here.\n",
    "  # ..."
   ]
  },
  {
   "cell_type": "code",
   "execution_count": null,
   "metadata": {},
   "outputs": [],
   "source": []
  }
 ],
 "metadata": {
  "language_info": {
   "name": "python"
  },
  "orig_nbformat": 4
 },
 "nbformat": 4,
 "nbformat_minor": 2
}
